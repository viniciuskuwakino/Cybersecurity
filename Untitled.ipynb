{
 "cells": [
  {
   "cell_type": "code",
   "execution_count": 26,
   "id": "6ee2b902",
   "metadata": {},
   "outputs": [],
   "source": [
    "# instalar: pip install liac-arff\n",
    "import arff\n",
    "import pandas as pd\n",
    "import numpy as np \n",
    "import random\n",
    "from sklearn import svm\n",
    "from sklearn.metrics import precision_score, accuracy_score, classification_report, f1_score, recall_score\n",
    "# import imblearn as ibl\n",
    "# import seaborn as sns\n",
    "# import matplotlib.pyplot as plt\n",
    "from csv import DictReader\n",
    "# from sklearn.neighbors import KNeighborsClassifier\n",
    "# from sklearn.preprocessing import StandardScaler\n",
    "# from sklearn.metrics import accuracy_score\n",
    "# from sklearn.model_selection import GridSearchCV, train_test_split, StratifiedKFold\n"
   ]
  },
  {
   "cell_type": "markdown",
   "id": "1a747395",
   "metadata": {},
   "source": [
    "0 @relation phishing\n",
    "\n",
    "02 @attribute having_IP_Address   { -1,1 } <br>\n",
    "03 @attribute URL_Length          { 1,0,-1 } <br>\n",
    "04 @attribute Shortining_Service  { 1,-1 } <br>\n",
    "05 @attribute having_At_Symbol    { 1,-1 } <br>\n",
    "06 @attribute double_slash_redirecting { -1,1 } <br>\n",
    "07 @attribute Prefix_Suffix       { -1,1 } <br>\n",
    "08 @attribute having_Sub_Domain   { -1,0,1 } <br>\n",
    "09 @attribute SSLfinal_State      { -1,1,0 } <br>\n",
    "10 @attribute Domain_registeration_length { -1,1 } <br>\n",
    "11 @attribute Favicon     { 1,-1 } <br>\n",
    "12 @attribute port        { 1,-1 } <br>\n",
    "13 @attribute HTTPS_token { -1,1 } <br>\n",
    "14 @attribute Request_URL { 1,-1 } <br>\n",
    "15 @attribute URL_of_Anchor { -1,0,1 } <br>\n",
    "16 @attribute Links_in_tags { 1,-1,0 } <br>\n",
    "17 @attribute SFH  { -1,1,0 } <br>\n",
    "18 @attribute Submitting_to_email { -1,1 } <br>\n",
    "19 @attribute Abnormal_URL        { -1,1 } <br>\n",
    "20 @attribute Redirect      { 0,1 } <br>\n",
    "21 @attribute on_mouseover  { 1,-1 } <br>\n",
    "22 @attribute RightClick    { 1,-1 } <br>\n",
    "23 @attribute popUpWidnow   { 1,-1 } <br>\n",
    "24 @attribute Iframe { 1,-1 } <br>\n",
    "25 @attribute age_of_domain { -1,1 } <br>\n",
    "26 @attribute DNSRecord     { -1,1 } <br>\n",
    "27 @attribute web_traffic   { -1,0,1 } <br>\n",
    "28 @attribute Page_Rank     { -1,1 } <br>\n",
    "29 @attribute Google_Index  { 1,-1 } <br>\n",
    "30 @attribute Links_pointing_to_page { 1,0,-1 } <br>\n",
    "31 @attribute Statistical_report     { -1,1 } <br>\n",
    "32 @attribute Result    { -1,1 } <br>"
   ]
  },
  {
   "cell_type": "markdown",
   "id": "6e524776",
   "metadata": {},
   "source": [
    "Limpeza dos dados, a tabela a seguir mostra os atributos selecionados do dataset 1:\n",
    "\n",
    "| **#** | **Attributes**              | **Description**                                                      | **Feature Type** |\n",
    "|-------|-----------------------------|----------------------------------------------------------------------|------------------|\n",
    "| 1     | having_IP_Address           | If the domain part has an IP address                                 | Lexical          |\n",
    "| 2     | URL_Length                  | Number of characters in the URL                                      | Lexical          |\n",
    "| 3     | Shortining_Service          | Is the URL shortened                                                 | Lexical          |\n",
    "| 4     | having_At_Symbol            | Is “@” sign present                                                  | Lexical          |\n",
    "| 5     | Prefix_Suffix               | Does the domain part include “-* symbol  (separates suffix prefix)   | Lexical          |\n",
    "| 6     | having_Sub_Domain           | Is the number of sub-domains high  (greater than 2)                  | Lexical          |\n",
    "| 7     | SSLfinal_State              | Has valid SSL certificate (age)                                      | Domain           |\n",
    "| 8     | Domain_registeration_length | Is the domain age of the website short (shorter than a year)         | Domain           |\n",
    "| 9     | Request_URL                 | Are the external objects (images, videos) loaded from another domain | Content          |\n",
    "| 10    | URL_of_Anchor               | Is the URL anchor linking to a webpage                               | Content          |\n",
    "| 11    | Links_in_tags               | Presence of \\<meta\\>, \\<scripts\\>,  \\<link\\> tags                          | Content          |\n",
    "| 12    | SFH                         | Does the server form handler(SFH) contain empty strings              | Domain           |\n",
    "| 13    | Abnormal_URL                | Is the hostname included in WHOIS database                           | Lexical          |\n",
    "| 14    | age_of_domain               | Is the age of the website short or long                              | Domain           |\n",
    "| 15    | DNSRecord                   | If the website is recognized by WHOIS database                       | Domain           |\n",
    "| 16    | web_traffic                 | If the webpage is frequently visited                                 | Domain           |\n",
    "| 17    | Page_Rank                   | How important the webpage is on the internet                         | Domain           |\n",
    "| 18    | Google_Index                | If the website is in Google’s index or not                           | Domain           |\n",
    "| 19    | Statistical_report          | If the host belongs to top phishing  IPs or domains (PhishTank)      | Domain           |"
   ]
  },
  {
   "cell_type": "markdown",
   "id": "c955bd4b",
   "metadata": {},
   "source": [
    "Atributos adicionais no segundo dataset:\n",
    "\n",
    "| **#** | **Attributes**              | **Description**                                                      | **Feature Type** |\n",
    "|-------|-----------------------------|----------------------------------------------------------------------|------------------|\n",
    "| 1     | external_objects            | Any suspicious behaviors related to website elements                               | Content          |\n",
    "| 2     | anchor_tags                 | Any suspicious behaviors related to the anchor tag                                 | Content          |"
   ]
  },
  {
   "cell_type": "markdown",
   "id": "fa1dceb6",
   "metadata": {},
   "source": [
    "Por fim temos os atributos de cada dataset:\n",
    "\n",
    "| **#** | **Attributes**              | **Presence of these features in the datasets** |\n",
    "|-------|-----------------------------|------------------------------------------------|\n",
    "| 1     | having_IP_Address           | Both                                           |\n",
    "| 2     | URL_Length                  | Both                                           |\n",
    "| 3     | Shortining_Service          | Both                                           |\n",
    "| 4     | having_At_Symbol            | Both                                           |\n",
    "| 5     | Prefix_Suffix               | Both                                           |\n",
    "| 6     | having_Sub_Domain           | Both                                           |\n",
    "| 7     | SSLfinal_State              | Both                                           |\n",
    "| 8     | Domain_registeration_length | Both                                           |\n",
    "| 9     | Links_in_tags               | Both                                           |\n",
    "| 10    | SFH                         | Both                                           |\n",
    "| 11    | Abnormal_URL                | Both                                           |\n",
    "| 12    | age_of_domain               | Both                                           |\n",
    "| 13    | DNSRecord                   | Both                                           |\n",
    "| 14    | web_traffic                 | Both                                           |\n",
    "| 15    | Statistical_report          | Both                                           |\n",
    "| 16    | Request_URL                 | First dataset                                  |\n",
    "| 17    | URL_of_Anchor               | First dataset                                  |\n",
    "| 18    | Page_Rank                   | First dataset                                  |\n",
    "| 19    | Google_Index                | First dataset                                  |\n",
    "| 20    | external_objects            | Second dataset                                 |\n",
    "| 21    | anchor_tags                 | Second dataset                                 |"
   ]
  },
  {
   "cell_type": "code",
   "execution_count": 23,
   "id": "818d2386",
   "metadata": {},
   "outputs": [
    {
     "data": {
      "text/plain": [
       "Result\n",
       "-1    1362\n",
       "1     1094\n",
       "Name: count, dtype: int64"
      ]
     },
     "execution_count": 23,
     "metadata": {},
     "output_type": "execute_result"
    }
   ],
   "source": [
    "def select_random(results):\n",
    "    leg = list()\n",
    "    selected = list()\n",
    "\n",
    "    for i in range(len(results)):\n",
    "        if results[i] == '1':\n",
    "            leg.append(i)\n",
    " \n",
    "    while len(set(selected)) != 1259:\n",
    "        if random.choice(leg) not in selected:\n",
    "            selected.append(random.choice(leg))\n",
    "            \n",
    "#     print(len(selected))\n",
    "#     mys = set(selected)\n",
    "#     print(len(mys))\n",
    "    return set(selected)\n",
    "\n",
    "\n",
    "\n",
    "file_path = \"trainingdataset.arff\" # Dados: 11055\n",
    "# leg: 6157\n",
    "# phi: 4898\n",
    "\n",
    "# file_path = \"old.arff\" # Dados: 2456\n",
    "\n",
    "# Abrir o arquivo ARFF\n",
    "with open(\"old.arff\", 'r') as file_test:\n",
    "    arff_data_teste = arff.load(file_test)\n",
    "\n",
    "# Acessar os dados do arquivo\n",
    "data_test = arff_data_teste['data']  # Dados em formato de lista ou matriz\n",
    "attributes_test = arff_data_teste['attributes']  # Atributos do arquivo ARFF\n",
    "\n",
    "df_test = pd.DataFrame(data_test, columns=[attr[0] for attr in attributes_test])\n",
    "\n",
    "ST_df_test = df_test.drop([\n",
    "    'double_slash_redirecting', \n",
    "    'Favicon', \n",
    "    'port', \n",
    "    'HTTPS_token', \n",
    "    'Submitting_to_email', \n",
    "    'Redirect', \n",
    "    'on_mouseover', \n",
    "    'RightClick',\n",
    "    'popUpWidnow', \n",
    "    'Iframe', \n",
    "    'Links_pointing_to_page'\n",
    "], axis=1)\n",
    "\n",
    "\n",
    "# Abrir o arquivo ARFF\n",
    "with open(\"trainingdataset.arff\", 'r') as file:\n",
    "    arff_data = arff.load(file)\n",
    "\n",
    "# Acessar os dados do arquivo\n",
    "data = arff_data['data']  # Dados em formato de lista ou matriz\n",
    "attributes = arff_data['attributes']  # Atributos do arquivo ARFF\n",
    "\n",
    "df = pd.DataFrame(data, columns=[attr[0] for attr in attributes])\n",
    "\n",
    "ST_df = df.drop([\n",
    "    'double_slash_redirecting', \n",
    "    'Favicon', \n",
    "    'port', \n",
    "    'HTTPS_token', \n",
    "    'Submitting_to_email', \n",
    "    'Redirect', \n",
    "    'on_mouseover', \n",
    "    'RightClick',\n",
    "    'popUpWidnow', \n",
    "    'Iframe', \n",
    "    'Links_pointing_to_page'\n",
    "], axis=1)\n",
    "\n",
    "teste = select_random(list(ST_df['Result']))\n",
    "ST_df.drop(teste, axis=0, inplace=True)\n",
    "# ST_df['Result'].value_counts()"
   ]
  },
  {
   "cell_type": "code",
   "execution_count": 6,
   "id": "645bc3ff",
   "metadata": {},
   "outputs": [
    {
     "data": {
      "text/plain": [
       "result\n",
       " 1    7044\n",
       "-1    7044\n",
       "Name: count, dtype: int64"
      ]
     },
     "execution_count": 6,
     "metadata": {},
     "output_type": "execute_result"
    }
   ],
   "source": [
    "# file_path = \"trainingdataset.arff\" # Dados: 11055\n",
    "# file_path = \"old.arff\" # Dados: 2456\n",
    "\n",
    "df = pd.read_csv('fixed_values_ds.csv')\n",
    "\n",
    "# df['result'].value_counts()\n",
    "# df.columns\n",
    "\n",
    "ND_df = df.drop([\n",
    "    'double-slash_redirection', \n",
    "    'favicons', \n",
    "    'ports', \n",
    "    'https', \n",
    "    'auto_email', \n",
    "    'iframe_redirection', \n",
    "    'on_mouse_over', \n",
    "    'right_click',\n",
    "    'popup_windows', \n",
    "    'links_pointing', \n",
    "    'image_text_keyword'\n",
    "], axis=1)\n",
    "\n",
    "ND_df.drop([0,1,2,3,4], axis=0, inplace=True)\n",
    "ND_df['result'].value_counts()"
   ]
  },
  {
   "cell_type": "markdown",
   "id": "d81fc867",
   "metadata": {},
   "source": [
    "### SVM"
   ]
  },
  {
   "cell_type": "code",
   "execution_count": 33,
   "id": "5f626c30",
   "metadata": {},
   "outputs": [
    {
     "ename": "ValueError",
     "evalue": "pos_label=1 is not a valid label. It should be one of ['-1', '1']",
     "output_type": "error",
     "traceback": [
      "\u001b[0;31m---------------------------------------------------------------------------\u001b[0m",
      "\u001b[0;31mValueError\u001b[0m                                Traceback (most recent call last)",
      "\u001b[0;32m/tmp/ipykernel_12911/2382149122.py\u001b[0m in \u001b[0;36m<module>\u001b[0;34m\u001b[0m\n\u001b[1;32m     12\u001b[0m \u001b[0mpred\u001b[0m \u001b[0;34m=\u001b[0m \u001b[0msvm_model\u001b[0m\u001b[0;34m.\u001b[0m\u001b[0mpredict\u001b[0m\u001b[0;34m(\u001b[0m\u001b[0mX_st_test\u001b[0m\u001b[0;34m)\u001b[0m\u001b[0;34m\u001b[0m\u001b[0;34m\u001b[0m\u001b[0m\n\u001b[1;32m     13\u001b[0m \u001b[0;31m# accuracy_score(y_st_test, pred)\u001b[0m\u001b[0;34m\u001b[0m\u001b[0;34m\u001b[0m\u001b[0m\n\u001b[0;32m---> 14\u001b[0;31m \u001b[0mprecision_score\u001b[0m\u001b[0;34m(\u001b[0m\u001b[0my_st_test\u001b[0m\u001b[0;34m,\u001b[0m \u001b[0mpred\u001b[0m\u001b[0;34m)\u001b[0m\u001b[0;34m\u001b[0m\u001b[0;34m\u001b[0m\u001b[0m\n\u001b[0m",
      "\u001b[0;32m~/.local/lib/python3.10/site-packages/sklearn/utils/_param_validation.py\u001b[0m in \u001b[0;36mwrapper\u001b[0;34m(*args, **kwargs)\u001b[0m\n\u001b[1;32m    209\u001b[0m                     )\n\u001b[1;32m    210\u001b[0m                 ):\n\u001b[0;32m--> 211\u001b[0;31m                     \u001b[0;32mreturn\u001b[0m \u001b[0mfunc\u001b[0m\u001b[0;34m(\u001b[0m\u001b[0;34m*\u001b[0m\u001b[0margs\u001b[0m\u001b[0;34m,\u001b[0m \u001b[0;34m**\u001b[0m\u001b[0mkwargs\u001b[0m\u001b[0;34m)\u001b[0m\u001b[0;34m\u001b[0m\u001b[0;34m\u001b[0m\u001b[0m\n\u001b[0m\u001b[1;32m    212\u001b[0m             \u001b[0;32mexcept\u001b[0m \u001b[0mInvalidParameterError\u001b[0m \u001b[0;32mas\u001b[0m \u001b[0me\u001b[0m\u001b[0;34m:\u001b[0m\u001b[0;34m\u001b[0m\u001b[0;34m\u001b[0m\u001b[0m\n\u001b[1;32m    213\u001b[0m                 \u001b[0;31m# When the function is just a wrapper around an estimator, we allow\u001b[0m\u001b[0;34m\u001b[0m\u001b[0;34m\u001b[0m\u001b[0m\n",
      "\u001b[0;32m~/.local/lib/python3.10/site-packages/sklearn/metrics/_classification.py\u001b[0m in \u001b[0;36mprecision_score\u001b[0;34m(y_true, y_pred, labels, pos_label, average, sample_weight, zero_division)\u001b[0m\n\u001b[1;32m   2125\u001b[0m     \u001b[0marray\u001b[0m\u001b[0;34m(\u001b[0m\u001b[0;34m[\u001b[0m\u001b[0;36m0.5\u001b[0m\u001b[0;34m,\u001b[0m \u001b[0;36m1.\u001b[0m \u001b[0;34m,\u001b[0m \u001b[0;36m1.\u001b[0m \u001b[0;34m]\u001b[0m\u001b[0;34m)\u001b[0m\u001b[0;34m\u001b[0m\u001b[0;34m\u001b[0m\u001b[0m\n\u001b[1;32m   2126\u001b[0m     \"\"\"\n\u001b[0;32m-> 2127\u001b[0;31m     p, _, _, _ = precision_recall_fscore_support(\n\u001b[0m\u001b[1;32m   2128\u001b[0m         \u001b[0my_true\u001b[0m\u001b[0;34m,\u001b[0m\u001b[0;34m\u001b[0m\u001b[0;34m\u001b[0m\u001b[0m\n\u001b[1;32m   2129\u001b[0m         \u001b[0my_pred\u001b[0m\u001b[0;34m,\u001b[0m\u001b[0;34m\u001b[0m\u001b[0;34m\u001b[0m\u001b[0m\n",
      "\u001b[0;32m~/.local/lib/python3.10/site-packages/sklearn/utils/_param_validation.py\u001b[0m in \u001b[0;36mwrapper\u001b[0;34m(*args, **kwargs)\u001b[0m\n\u001b[1;32m    182\u001b[0m             \u001b[0mglobal_skip_validation\u001b[0m \u001b[0;34m=\u001b[0m \u001b[0mget_config\u001b[0m\u001b[0;34m(\u001b[0m\u001b[0;34m)\u001b[0m\u001b[0;34m[\u001b[0m\u001b[0;34m\"skip_parameter_validation\"\u001b[0m\u001b[0;34m]\u001b[0m\u001b[0;34m\u001b[0m\u001b[0;34m\u001b[0m\u001b[0m\n\u001b[1;32m    183\u001b[0m             \u001b[0;32mif\u001b[0m \u001b[0mglobal_skip_validation\u001b[0m\u001b[0;34m:\u001b[0m\u001b[0;34m\u001b[0m\u001b[0;34m\u001b[0m\u001b[0m\n\u001b[0;32m--> 184\u001b[0;31m                 \u001b[0;32mreturn\u001b[0m \u001b[0mfunc\u001b[0m\u001b[0;34m(\u001b[0m\u001b[0;34m*\u001b[0m\u001b[0margs\u001b[0m\u001b[0;34m,\u001b[0m \u001b[0;34m**\u001b[0m\u001b[0mkwargs\u001b[0m\u001b[0;34m)\u001b[0m\u001b[0;34m\u001b[0m\u001b[0;34m\u001b[0m\u001b[0m\n\u001b[0m\u001b[1;32m    185\u001b[0m \u001b[0;34m\u001b[0m\u001b[0m\n\u001b[1;32m    186\u001b[0m             \u001b[0mfunc_sig\u001b[0m \u001b[0;34m=\u001b[0m \u001b[0msignature\u001b[0m\u001b[0;34m(\u001b[0m\u001b[0mfunc\u001b[0m\u001b[0;34m)\u001b[0m\u001b[0;34m\u001b[0m\u001b[0;34m\u001b[0m\u001b[0m\n",
      "\u001b[0;32m~/.local/lib/python3.10/site-packages/sklearn/metrics/_classification.py\u001b[0m in \u001b[0;36mprecision_recall_fscore_support\u001b[0;34m(y_true, y_pred, beta, labels, pos_label, average, warn_for, sample_weight, zero_division)\u001b[0m\n\u001b[1;32m   1719\u001b[0m     \"\"\"\n\u001b[1;32m   1720\u001b[0m     \u001b[0mzero_division_value\u001b[0m \u001b[0;34m=\u001b[0m \u001b[0m_check_zero_division\u001b[0m\u001b[0;34m(\u001b[0m\u001b[0mzero_division\u001b[0m\u001b[0;34m)\u001b[0m\u001b[0;34m\u001b[0m\u001b[0;34m\u001b[0m\u001b[0m\n\u001b[0;32m-> 1721\u001b[0;31m     \u001b[0mlabels\u001b[0m \u001b[0;34m=\u001b[0m \u001b[0m_check_set_wise_labels\u001b[0m\u001b[0;34m(\u001b[0m\u001b[0my_true\u001b[0m\u001b[0;34m,\u001b[0m \u001b[0my_pred\u001b[0m\u001b[0;34m,\u001b[0m \u001b[0maverage\u001b[0m\u001b[0;34m,\u001b[0m \u001b[0mlabels\u001b[0m\u001b[0;34m,\u001b[0m \u001b[0mpos_label\u001b[0m\u001b[0;34m)\u001b[0m\u001b[0;34m\u001b[0m\u001b[0;34m\u001b[0m\u001b[0m\n\u001b[0m\u001b[1;32m   1722\u001b[0m \u001b[0;34m\u001b[0m\u001b[0m\n\u001b[1;32m   1723\u001b[0m     \u001b[0;31m# Calculate tp_sum, pred_sum, true_sum ###\u001b[0m\u001b[0;34m\u001b[0m\u001b[0;34m\u001b[0m\u001b[0m\n",
      "\u001b[0;32m~/.local/lib/python3.10/site-packages/sklearn/metrics/_classification.py\u001b[0m in \u001b[0;36m_check_set_wise_labels\u001b[0;34m(y_true, y_pred, average, labels, pos_label)\u001b[0m\n\u001b[1;32m   1505\u001b[0m             \u001b[0;32mif\u001b[0m \u001b[0mpos_label\u001b[0m \u001b[0;32mnot\u001b[0m \u001b[0;32min\u001b[0m \u001b[0mpresent_labels\u001b[0m\u001b[0;34m:\u001b[0m\u001b[0;34m\u001b[0m\u001b[0;34m\u001b[0m\u001b[0m\n\u001b[1;32m   1506\u001b[0m                 \u001b[0;32mif\u001b[0m \u001b[0mlen\u001b[0m\u001b[0;34m(\u001b[0m\u001b[0mpresent_labels\u001b[0m\u001b[0;34m)\u001b[0m \u001b[0;34m>=\u001b[0m \u001b[0;36m2\u001b[0m\u001b[0;34m:\u001b[0m\u001b[0;34m\u001b[0m\u001b[0;34m\u001b[0m\u001b[0m\n\u001b[0;32m-> 1507\u001b[0;31m                     raise ValueError(\n\u001b[0m\u001b[1;32m   1508\u001b[0m                         \u001b[0;34mf\"pos_label={pos_label} is not a valid label. It \"\u001b[0m\u001b[0;34m\u001b[0m\u001b[0;34m\u001b[0m\u001b[0m\n\u001b[1;32m   1509\u001b[0m                         \u001b[0;34mf\"should be one of {present_labels}\"\u001b[0m\u001b[0;34m\u001b[0m\u001b[0;34m\u001b[0m\u001b[0m\n",
      "\u001b[0;31mValueError\u001b[0m: pos_label=1 is not a valid label. It should be one of ['-1', '1']"
     ]
    }
   ],
   "source": [
    "#Atributo de saída\n",
    "y_st_test = ST_df_test['Result'].values\n",
    "y_st = ST_df['Result'].values\n",
    "\n",
    "#Atributos de entrada\n",
    "X_st_test = ST_df_test.drop('Result', axis=1)\n",
    "X_st = ST_df.drop('Result', axis=1)\n",
    "\n",
    "svm_model = svm.SVC(kernel=\"linear\")\n",
    "svm_model.fit(X_st, y_st)\n",
    "# print(svm_model.score(X_st, y_st))\n",
    "pred = svm_model.predict(X_st_test)\n",
    "# accuracy_score(y_st_test, pred)\n",
    "precision_score(y_st_test, pred)\n"
   ]
  },
  {
   "cell_type": "code",
   "execution_count": null,
   "id": "4dc11981",
   "metadata": {},
   "outputs": [],
   "source": []
  },
  {
   "cell_type": "code",
   "execution_count": null,
   "id": "ead57e48",
   "metadata": {},
   "outputs": [],
   "source": []
  },
  {
   "cell_type": "code",
   "execution_count": null,
   "id": "af511188",
   "metadata": {},
   "outputs": [],
   "source": []
  },
  {
   "cell_type": "code",
   "execution_count": null,
   "id": "39f83619",
   "metadata": {},
   "outputs": [],
   "source": []
  }
 ],
 "metadata": {
  "kernelspec": {
   "display_name": "Python 3 (ipykernel)",
   "language": "python",
   "name": "python3"
  },
  "language_info": {
   "codemirror_mode": {
    "name": "ipython",
    "version": 3
   },
   "file_extension": ".py",
   "mimetype": "text/x-python",
   "name": "python",
   "nbconvert_exporter": "python",
   "pygments_lexer": "ipython3",
   "version": "3.10.6"
  }
 },
 "nbformat": 4,
 "nbformat_minor": 5
}
