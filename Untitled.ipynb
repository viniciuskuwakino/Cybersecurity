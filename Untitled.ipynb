{
 "cells": [
  {
   "cell_type": "code",
   "execution_count": 1,
   "id": "6ee2b902",
   "metadata": {},
   "outputs": [],
   "source": [
    "# instalar: pip install liac-arff\n",
    "import arff"
   ]
  },
  {
   "cell_type": "code",
   "execution_count": null,
   "id": "818d2386",
   "metadata": {},
   "outputs": [],
   "source": [
    "file_path = \"trainingdataset.arff\"\n",
    "\n",
    "# Abrir o arquivo ARFF\n",
    "with open(file_path, 'r') as file:\n",
    "    arff_data = arff.load(file)\n",
    "\n",
    "# Acessar os dados do arquivo\n",
    "data = arff_data['data']  # Dados em formato de lista ou matriz\n",
    "attributes = arff_data['attributes']  # Atributos do arquivo ARFF\n",
    "\n",
    "# Exemplo de impressão dos atributos e dos primeiros 5 registros de dados\n",
    "print(\"Atributos:\")\n",
    "for attribute in attributes:\n",
    "    print(attribute[0])\n",
    "\n",
    "print(\"\\nDados:\")\n",
    "for row in data[:5]:\n",
    "    print(row)\n"
   ]
  }
 ],
 "metadata": {
  "kernelspec": {
   "display_name": "Python 3 (ipykernel)",
   "language": "python",
   "name": "python3"
  },
  "language_info": {
   "codemirror_mode": {
    "name": "ipython",
    "version": 3
   },
   "file_extension": ".py",
   "mimetype": "text/x-python",
   "name": "python",
   "nbconvert_exporter": "python",
   "pygments_lexer": "ipython3",
   "version": "3.10.6"
  }
 },
 "nbformat": 4,
 "nbformat_minor": 5
}
